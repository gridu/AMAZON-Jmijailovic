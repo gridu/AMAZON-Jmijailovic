{
 "cells": [
  {
   "cell_type": "code",
   "execution_count": 1,
   "metadata": {},
   "outputs": [
    {
     "name": "stdout",
     "output_type": "stream",
     "text": [
      "arn:aws:iam::571632058847:role/ykumarbekov-sagemaker-role\n"
     ]
    }
   ],
   "source": [
    "from sagemaker import get_execution_role\n",
    "\n",
    "bucket_name = 'jmijailovic-item-logs'\n",
    "\n",
    "role = get_execution_role()\n",
    "bucket_key_prefix = 'sms-spam-classifier'\n",
    "vocabulary_length = 9013\n",
    "\n",
    "print(role)"
   ]
  },
  {
   "cell_type": "code",
   "execution_count": 2,
   "metadata": {},
   "outputs": [
    {
     "name": "stdout",
     "output_type": "stream",
     "text": [
      "  % Total    % Received % Xferd  Average Speed   Time    Time     Time  Current\n",
      "                                 Dload  Upload   Total   Spent    Left  Speed\n",
      "100  198k  100  198k    0     0   279k      0 --:--:-- --:--:-- --:--:--  279k\n",
      "Archive:  dataset/smsspamcollection.zip\n",
      "  inflating: dataset/SMSSpamCollection  \n",
      "  inflating: dataset/readme          \n",
      "ham\tGo until jurong point, crazy.. Available only in bugis n great world la e buffet... Cine there got amore wat...\n",
      "ham\tOk lar... Joking wif u oni...\n",
      "spam\tFree entry in 2 a wkly comp to win FA Cup final tkts 21st May 2005. Text FA to 87121 to receive entry question(std txt rate)T&C's apply 08452810075over18's\n",
      "ham\tU dun say so early hor... U c already then say...\n",
      "ham\tNah I don't think he goes to usf, he lives around here though\n",
      "spam\tFreeMsg Hey there darling it's been 3 week's now and no word back! I'd like some fun you up for it still? Tb ok! XxX std chgs to send, £1.50 to rcv\n",
      "ham\tEven my brother is not like to speak with me. They treat me like aids patent.\n",
      "ham\tAs per your request 'Melle Melle (Oru Minnaminunginte Nurungu Vettam)' has been set as your callertune for all Callers. Press *9 to copy your friends Callertune\n",
      "spam\tWINNER!! As a valued network customer you have been selected to receivea £900 prize reward! To claim call 09061701461. Claim code KL341. Valid 12 hours only.\n",
      "spam\tHad your mobile 11 months or more? U R entitled to Update to the latest colour mobiles with camera for Free! Call The Mobile Update Co FREE on 08002986030\n"
     ]
    }
   ],
   "source": [
    "!mkdir -p dataset\n",
    "!curl https://archive.ics.uci.edu/ml/machine-learning-databases/00228/smsspamcollection.zip -o dataset/smsspamcollection.zip\n",
    "!unzip -o dataset/smsspamcollection.zip -d dataset\n",
    "!head -10 dataset/SMSSpamCollection"
   ]
  },
  {
   "cell_type": "code",
   "execution_count": 2,
   "metadata": {},
   "outputs": [
    {
     "name": "stdout",
     "output_type": "stream",
     "text": [
      "Collecting import_ipynb\n",
      "  Downloading import-ipynb-0.1.3.tar.gz (4.0 kB)\n",
      "Building wheels for collected packages: import-ipynb\n",
      "  Building wheel for import-ipynb (setup.py) ... \u001b[?25ldone\n",
      "\u001b[?25h  Created wheel for import-ipynb: filename=import_ipynb-0.1.3-py3-none-any.whl size=2975 sha256=4cc3cac257418bad922e111c9fbe44b666901eb21f4eedd9778573e6f6aacd79\n",
      "  Stored in directory: /home/ec2-user/.cache/pip/wheels/fe/df/cf/1118a0b1acf475fb435463072bba11232db7e3592e7d7695d4\n",
      "Successfully built import-ipynb\n",
      "Installing collected packages: import-ipynb\n",
      "Successfully installed import-ipynb-0.1.3\n",
      "\u001b[33mWARNING: You are using pip version 20.0.2; however, version 20.2.1 is available.\n",
      "You should consider upgrading via the '/home/ec2-user/anaconda3/envs/pytorch_p36/bin/python -m pip install --upgrade pip' command.\u001b[0m\n"
     ]
    }
   ],
   "source": [
    "!pip3 install import_ipynb"
   ]
  },
  {
   "cell_type": "code",
   "execution_count": 3,
   "metadata": {},
   "outputs": [
    {
     "name": "stdout",
     "output_type": "stream",
     "text": [
      "importing Jupyter notebook from utilities.ipynb\n"
     ]
    }
   ],
   "source": [
    "import pandas as pd\n",
    "import numpy as np\n",
    "import pickle\n",
    "import import_ipynb\n",
    "from utilities import one_hot_encode\n",
    "from utilities import vectorize_sequences\n",
    "\n",
    "df = pd.read_csv('dataset/SMSSpamCollection', sep='\\t', header=None)\n",
    "df[df.columns[0]] = df[df.columns[0]].map({'ham': 0, 'spam': 1})\n",
    "\n",
    "targets = df[df.columns[0]].values\n",
    "messages = df[df.columns[1]].values\n",
    "\n",
    "# one hot encoding for each SMS message\n",
    "one_hot_data = one_hot_encode(messages, vocabulary_length)\n",
    "encoded_messages = vectorize_sequences(one_hot_data, vocabulary_length)\n",
    "\n",
    "df2 = pd.DataFrame(encoded_messages)\n",
    "df2.insert(0, 'spam', targets)\n",
    "\n",
    "# Split into training and validation sets (80%/20% split)\n",
    "split_index = int(np.ceil(df.shape[0] * 0.8))\n",
    "train_set = df2[:split_index]\n",
    "val_set = df2[split_index:]\n",
    "\n",
    "train_set.to_csv('dataset/sms_train_set.gz', header=False, index=False, compression='gzip')\n",
    "val_set.to_csv('dataset/sms_val_set.gz', header=False, index=False, compression='gzip')"
   ]
  },
  {
   "cell_type": "code",
   "execution_count": 4,
   "metadata": {},
   "outputs": [],
   "source": [
    "import boto3\n",
    "\n",
    "s3 = boto3.resource('s3')\n",
    "target_bucket = s3.Bucket(bucket_name)\n",
    "\n",
    "with open('dataset/sms_train_set.gz', 'rb') as data:\n",
    "    target_bucket.upload_fileobj(data, '{0}/train/sms_train_set.gz'.format(bucket_key_prefix))\n",
    "    \n",
    "with open('dataset/sms_val_set.gz', 'rb') as data:\n",
    "    target_bucket.upload_fileobj(data, '{0}/val/sms_val_set.gz'.format(bucket_key_prefix))"
   ]
  },
  {
   "cell_type": "code",
   "execution_count": 5,
   "metadata": {},
   "outputs": [],
   "source": [
    "from sagemaker.mxnet import MXNet\n",
    "\n",
    "output_path = 's3://{0}/{1}/output'.format(bucket_name, bucket_key_prefix)\n",
    "code_location = 's3://{0}/{1}/code'.format(bucket_name, bucket_key_prefix)\n",
    "\n"
   ]
  },
  {
   "cell_type": "code",
   "execution_count": 6,
   "metadata": {},
   "outputs": [],
   "source": [
    "m = MXNet('mxnet_script_python.py',\n",
    "          role=role,\n",
    "          train_instance_count=1,\n",
    "          train_instance_type='ml.c5.2xlarge',\n",
    "          output_path=output_path,\n",
    "          base_job_name='sms-spam-classifier-mxnet',\n",
    "          py_version='py3',\n",
    "          framework_version=\"1.2\",\n",
    "          code_location = code_location,\n",
    "          hyperparameters={'batch_size': 100,'epochs': 20,'learning_rate': 0.01})\n",
    "\n"
   ]
  },
  {
   "cell_type": "code",
   "execution_count": 7,
   "metadata": {},
   "outputs": [
    {
     "name": "stderr",
     "output_type": "stream",
     "text": [
      "'s3_input' class will be renamed to 'TrainingInput' in SageMaker Python SDK v2.\n",
      "'s3_input' class will be renamed to 'TrainingInput' in SageMaker Python SDK v2.\n",
      "'create_image_uri' will be deprecated in favor of 'ImageURIProvider' class in SageMaker Python SDK v2.\n"
     ]
    },
    {
     "name": "stdout",
     "output_type": "stream",
     "text": [
      "2020-08-05 09:51:25 Starting - Starting the training job...\n",
      "2020-08-05 09:51:27 Starting - Launching requested ML instances......\n",
      "2020-08-05 09:52:29 Starting - Preparing the instances for training.\n",
      "2020-08-05 09:52:29 Starting - Preparing the instances for training.....\n",
      "2020-08-05 09:53:23 Downloading - Downloading input data\n",
      "2020-08-05 09:53:23 Training - Training image download completed. Training in progress..\n",
      "2020-08-05 09:53:23 Downloading - Downloading input data\n",
      "2020-08-05 09:53:23 Training - Training image download completed. Training in progress..\u001b[34m2020-08-05 09:53:23,557 INFO - root - running container entrypoint\u001b[0m\n",
      "\u001b[34m2020-08-05 09:53:23,557 INFO - root - starting train task\u001b[0m\n",
      "\u001b[34m2020-08-05 09:53:23,561 INFO - container_support.training - Training starting\u001b[0m\n",
      "\u001b[34m2020-08-05 09:53:24,276 WARNING - mxnet_container.train - #033[1;33mThis required structure for training scripts will be deprecated with the next major release of MXNet images. The train() function will no longer be required; instead the training script must be able to be run as a standalone script. For more information, see https://github.com/aws/sagemaker-python-sdk/tree/master/src/sagemaker/mxnet#updating-your-mxnet-training-script.#033[1;0m\u001b[0m\n",
      "\u001b[34m2020-08-05 09:53:30,521 INFO - mxnet_container.train - MXNetTrainingEnvironment: {'base_dir': '/opt/ml', 'input_dir': '/opt/ml/input', 'code_dir': '/opt/ml/code', 'resource_config': {'current_host': 'algo-1', 'hosts': ['algo-1'], 'network_interface_name': 'eth0'}, 'user_requirements_file': None, 'available_cpus': 8, 'user_script_archive': 's3://jmijailovic-item-logs/sms-spam-classifier/code/sms-spam-classifier-mxnet-2020-08-05-09-51-25-050/source/sourcedir.tar.gz', '_scheduler_ip': '10.0.86.16', 'hosts': ['algo-1'], 'model_dir': '/opt/ml/model', 'channels': {'val': {'RecordWrapperType': 'None', 'S3DistributionType': 'FullyReplicated', 'TrainingInputMode': 'File'}, 'train': {'RecordWrapperType': 'None', 'S3DistributionType': 'FullyReplicated', 'TrainingInputMode': 'File'}}, 'current_host': 'algo-1', 'sagemaker_region': 'us-east-2', '_ps_port': 8000, 'enable_cloudwatch_metrics': False, 'job_name': 'sms-spam-classifier-mxnet-2020-08-05-09-51-25-050', 'output_data_dir': '/opt/ml/output/data/', 'container_log_level': 20, 'output_dir': '/opt/ml/output', 'available_gpus': 0, 'input_config_dir': '/opt/ml/input/config', 'channel_dirs': {'val': '/opt/ml/input/data/val', 'train': '/opt/ml/input/data/train'}, '_ps_verbose': 0, 'hyperparameters': {'sagemaker_region': 'us-east-2', 'sagemaker_container_log_level': 20, 'batch_size': 100, 'sagemaker_submit_directory': 's3://jmijailovic-item-logs/sms-spam-classifier/code/sms-spam-classifier-mxnet-2020-08-05-09-51-25-050/source/sourcedir.tar.gz', 'sagemaker_program': 'mxnet_script_python.py', 'epochs': 20, 'sagemaker_enable_cloudwatch_metrics': False, 'sagemaker_job_name': 'sms-spam-classifier-mxnet-2020-08-05-09-51-25-050', 'learning_rate': 0.01}, 'user_script_name': 'mxnet_script_python.py', '_scheduler_host': 'algo-1'}\u001b[0m\n",
      "\u001b[34mDownloading s3://jmijailovic-item-logs/sms-spam-classifier/code/sms-spam-classifier-mxnet-2020-08-05-09-51-25-050/source/sourcedir.tar.gz to /tmp/script.tar.gz\u001b[0m\n",
      "\u001b[34m2020-08-05 09:53:30,711 INFO - mxnet_container.train - Starting distributed training task\u001b[0m\n",
      "\u001b[34m2020-08-05 09:53:23,557 INFO - root - running container entrypoint\u001b[0m\n",
      "\u001b[34m2020-08-05 09:53:23,557 INFO - root - starting train task\u001b[0m\n",
      "\u001b[34m2020-08-05 09:53:23,561 INFO - container_support.training - Training starting\u001b[0m\n",
      "\u001b[34m2020-08-05 09:53:24,276 WARNING - mxnet_container.train - #033[1;33mThis required structure for training scripts will be deprecated with the next major release of MXNet images. The train() function will no longer be required; instead the training script must be able to be run as a standalone script. For more information, see https://github.com/aws/sagemaker-python-sdk/tree/master/src/sagemaker/mxnet#updating-your-mxnet-training-script.#033[1;0m\u001b[0m\n",
      "\u001b[34m2020-08-05 09:53:30,521 INFO - mxnet_container.train - MXNetTrainingEnvironment: {'base_dir': '/opt/ml', 'input_dir': '/opt/ml/input', 'code_dir': '/opt/ml/code', 'resource_config': {'current_host': 'algo-1', 'hosts': ['algo-1'], 'network_interface_name': 'eth0'}, 'user_requirements_file': None, 'available_cpus': 8, 'user_script_archive': 's3://jmijailovic-item-logs/sms-spam-classifier/code/sms-spam-classifier-mxnet-2020-08-05-09-51-25-050/source/sourcedir.tar.gz', '_scheduler_ip': '10.0.86.16', 'hosts': ['algo-1'], 'model_dir': '/opt/ml/model', 'channels': {'val': {'RecordWrapperType': 'None', 'S3DistributionType': 'FullyReplicated', 'TrainingInputMode': 'File'}, 'train': {'RecordWrapperType': 'None', 'S3DistributionType': 'FullyReplicated', 'TrainingInputMode': 'File'}}, 'current_host': 'algo-1', 'sagemaker_region': 'us-east-2', '_ps_port': 8000, 'enable_cloudwatch_metrics': False, 'job_name': 'sms-spam-classifier-mxnet-2020-08-05-09-51-25-050', 'output_data_dir': '/opt/ml/output/data/', 'container_log_level': 20, 'output_dir': '/opt/ml/output', 'available_gpus': 0, 'input_config_dir': '/opt/ml/input/config', 'channel_dirs': {'val': '/opt/ml/input/data/val', 'train': '/opt/ml/input/data/train'}, '_ps_verbose': 0, 'hyperparameters': {'sagemaker_region': 'us-east-2', 'sagemaker_container_log_level': 20, 'batch_size': 100, 'sagemaker_submit_directory': 's3://jmijailovic-item-logs/sms-spam-classifier/code/sms-spam-classifier-mxnet-2020-08-05-09-51-25-050/source/sourcedir.tar.gz', 'sagemaker_program': 'mxnet_script_python.py', 'epochs': 20, 'sagemaker_enable_cloudwatch_metrics': False, 'sagemaker_job_name': 'sms-spam-classifier-mxnet-2020-08-05-09-51-25-050', 'learning_rate': 0.01}, 'user_script_name': 'mxnet_script_python.py', '_scheduler_host': 'algo-1'}\u001b[0m\n",
      "\u001b[34mDownloading s3://jmijailovic-item-logs/sms-spam-classifier/code/sms-spam-classifier-mxnet-2020-08-05-09-51-25-050/source/sourcedir.tar.gz to /tmp/script.tar.gz\u001b[0m\n",
      "\u001b[34m2020-08-05 09:53:30,711 INFO - mxnet_container.train - Starting distributed training task\u001b[0m\n",
      "\u001b[34mCollecting pandas\n",
      "  Downloading https://files.pythonhosted.org/packages/74/24/0cdbf8907e1e3bc5a8da03345c23cbed7044330bb8f73bb12e711a640a00/pandas-0.24.2-cp35-cp35m-manylinux1_x86_64.whl (10.0MB)\u001b[0m\n",
      "\u001b[34mCollecting pytz>=2011k (from pandas)\n",
      "  Downloading https://files.pythonhosted.org/packages/4f/a4/879454d49688e2fad93e59d7d4efda580b783c745fd2ec2a3adf87b0808d/pytz-2020.1-py2.py3-none-any.whl (510kB)\u001b[0m\n",
      "\u001b[34mRequirement already satisfied: numpy>=1.12.0 in /usr/local/lib/python3.5/dist-packages (from pandas) (1.14.6)\u001b[0m\n",
      "\u001b[34mRequirement already satisfied: python-dateutil>=2.5.0 in /usr/local/lib/python3.5/dist-packages (from pandas) (2.7.4)\u001b[0m\n",
      "\u001b[34mRequirement already satisfied: six>=1.5 in /usr/local/lib/python3.5/dist-packages (from python-dateutil>=2.5.0->pandas) (1.11.0)\u001b[0m\n",
      "\u001b[34mInstalling collected packages: pytz, pandas\u001b[0m\n",
      "\u001b[34mSuccessfully installed pandas-0.24.2 pytz-2020.1\u001b[0m\n",
      "\u001b[34mYou are using pip version 18.1, however version 20.2.1 is available.\u001b[0m\n",
      "\u001b[34mYou should consider upgrading via the 'pip install --upgrade pip' command.\u001b[0m\n",
      "\u001b[34m/usr/local/lib/python3.5/dist-packages/mxnet_container/train.py:190: DeprecationWarning: inspect.getargspec() is deprecated, use inspect.signature() instead\n",
      "  train_args = inspect.getargspec(user_module.train)\u001b[0m\n",
      "\u001b[34mTrain data path: /opt/ml/input/data/train\u001b[0m\n",
      "\u001b[34mCollecting pandas\n",
      "  Downloading https://files.pythonhosted.org/packages/74/24/0cdbf8907e1e3bc5a8da03345c23cbed7044330bb8f73bb12e711a640a00/pandas-0.24.2-cp35-cp35m-manylinux1_x86_64.whl (10.0MB)\u001b[0m\n",
      "\u001b[34mCollecting pytz>=2011k (from pandas)\n",
      "  Downloading https://files.pythonhosted.org/packages/4f/a4/879454d49688e2fad93e59d7d4efda580b783c745fd2ec2a3adf87b0808d/pytz-2020.1-py2.py3-none-any.whl (510kB)\u001b[0m\n",
      "\u001b[34mRequirement already satisfied: numpy>=1.12.0 in /usr/local/lib/python3.5/dist-packages (from pandas) (1.14.6)\u001b[0m\n",
      "\u001b[34mRequirement already satisfied: python-dateutil>=2.5.0 in /usr/local/lib/python3.5/dist-packages (from pandas) (2.7.4)\u001b[0m\n",
      "\u001b[34mRequirement already satisfied: six>=1.5 in /usr/local/lib/python3.5/dist-packages (from python-dateutil>=2.5.0->pandas) (1.11.0)\u001b[0m\n",
      "\u001b[34mInstalling collected packages: pytz, pandas\u001b[0m\n",
      "\u001b[34mSuccessfully installed pandas-0.24.2 pytz-2020.1\u001b[0m\n",
      "\u001b[34mYou are using pip version 18.1, however version 20.2.1 is available.\u001b[0m\n",
      "\u001b[34mYou should consider upgrading via the 'pip install --upgrade pip' command.\u001b[0m\n",
      "\u001b[34m/usr/local/lib/python3.5/dist-packages/mxnet_container/train.py:190: DeprecationWarning: inspect.getargspec() is deprecated, use inspect.signature() instead\n",
      "  train_args = inspect.getargspec(user_module.train)\u001b[0m\n",
      "\u001b[34mTrain data path: /opt/ml/input/data/train\u001b[0m\n",
      "\u001b[34mValidation data path: /opt/ml/input/data/val\u001b[0m\n",
      "\u001b[34m[Epoch 0] Training: accuracy=0.733229\u001b[0m\n",
      "\u001b[34m[Epoch 0] Validation: accuracy=0.762803\u001b[0m\n",
      "\u001b[34mValidation data path: /opt/ml/input/data/val\u001b[0m\n",
      "\u001b[34m[Epoch 0] Training: accuracy=0.733229\u001b[0m\n",
      "\u001b[34m[Epoch 0] Validation: accuracy=0.762803\u001b[0m\n",
      "\u001b[34m[Epoch 1] Training: accuracy=0.813552\u001b[0m\n",
      "\u001b[34m[Epoch 1] Validation: accuracy=0.806828\u001b[0m\n",
      "\u001b[34m[Epoch 2] Training: accuracy=0.849450\u001b[0m\n",
      "\u001b[34m[Epoch 2] Validation: accuracy=0.851752\u001b[0m\n",
      "\u001b[34m[Epoch 3] Training: accuracy=0.876150\u001b[0m\n",
      "\u001b[34m[Epoch 3] Validation: accuracy=0.858940\u001b[0m\n",
      "\u001b[34m[Epoch 4] Training: accuracy=0.893875\u001b[0m\n",
      "\u001b[34m[Epoch 4] Validation: accuracy=0.872417\u001b[0m\n",
      "\u001b[34m[Epoch 5] Training: accuracy=0.899708\u001b[0m\n",
      "\u001b[34m[Epoch 5] Validation: accuracy=0.882300\u001b[0m\n",
      "\u001b[34m[Epoch 6] Training: accuracy=0.908459\u001b[0m\n",
      "\u001b[34m[Epoch 6] Validation: accuracy=0.895777\u001b[0m\n",
      "\u001b[34m[Epoch 7] Training: accuracy=0.915863\u001b[0m\n",
      "\u001b[34m[Epoch 7] Validation: accuracy=0.903863\u001b[0m\n",
      "\u001b[34m[Epoch 8] Training: accuracy=0.919228\u001b[0m\n",
      "\u001b[34m[Epoch 8] Validation: accuracy=0.910153\u001b[0m\n",
      "\u001b[34m[Epoch 9] Training: accuracy=0.925062\u001b[0m\n",
      "\u001b[34m[Epoch 9] Validation: accuracy=0.918239\u001b[0m\n",
      "\u001b[34m[Epoch 10] Training: accuracy=0.930222\u001b[0m\n",
      "\u001b[34m[Epoch 10] Validation: accuracy=0.921833\u001b[0m\n",
      "\u001b[34m[Epoch 11] Training: accuracy=0.929549\u001b[0m\n",
      "\u001b[34m[Epoch 11] Validation: accuracy=0.924528\u001b[0m\n",
      "\u001b[34m[Epoch 12] Training: accuracy=0.934934\u001b[0m\n",
      "\u001b[34m[Epoch 12] Validation: accuracy=0.926325\u001b[0m\n",
      "\u001b[34m[Epoch 13] Training: accuracy=0.931568\u001b[0m\n",
      "\u001b[34m[Epoch 13] Validation: accuracy=0.927224\u001b[0m\n",
      "\u001b[34m[Epoch 1] Training: accuracy=0.813552\u001b[0m\n",
      "\u001b[34m[Epoch 1] Validation: accuracy=0.806828\u001b[0m\n",
      "\u001b[34m[Epoch 2] Training: accuracy=0.849450\u001b[0m\n",
      "\u001b[34m[Epoch 2] Validation: accuracy=0.851752\u001b[0m\n",
      "\u001b[34m[Epoch 3] Training: accuracy=0.876150\u001b[0m\n",
      "\u001b[34m[Epoch 3] Validation: accuracy=0.858940\u001b[0m\n",
      "\u001b[34m[Epoch 4] Training: accuracy=0.893875\u001b[0m\n",
      "\u001b[34m[Epoch 4] Validation: accuracy=0.872417\u001b[0m\n",
      "\u001b[34m[Epoch 5] Training: accuracy=0.899708\u001b[0m\n",
      "\u001b[34m[Epoch 5] Validation: accuracy=0.882300\u001b[0m\n",
      "\u001b[34m[Epoch 6] Training: accuracy=0.908459\u001b[0m\n",
      "\u001b[34m[Epoch 6] Validation: accuracy=0.895777\u001b[0m\n",
      "\u001b[34m[Epoch 7] Training: accuracy=0.915863\u001b[0m\n",
      "\u001b[34m[Epoch 7] Validation: accuracy=0.903863\u001b[0m\n",
      "\u001b[34m[Epoch 8] Training: accuracy=0.919228\u001b[0m\n",
      "\u001b[34m[Epoch 8] Validation: accuracy=0.910153\u001b[0m\n",
      "\u001b[34m[Epoch 9] Training: accuracy=0.925062\u001b[0m\n",
      "\u001b[34m[Epoch 9] Validation: accuracy=0.918239\u001b[0m\n",
      "\u001b[34m[Epoch 10] Training: accuracy=0.930222\u001b[0m\n",
      "\u001b[34m[Epoch 10] Validation: accuracy=0.921833\u001b[0m\n",
      "\u001b[34m[Epoch 11] Training: accuracy=0.929549\u001b[0m\n",
      "\u001b[34m[Epoch 11] Validation: accuracy=0.924528\u001b[0m\n",
      "\u001b[34m[Epoch 12] Training: accuracy=0.934934\u001b[0m\n",
      "\u001b[34m[Epoch 12] Validation: accuracy=0.926325\u001b[0m\n",
      "\u001b[34m[Epoch 13] Training: accuracy=0.931568\u001b[0m\n",
      "\u001b[34m[Epoch 13] Validation: accuracy=0.927224\u001b[0m\n",
      "\u001b[34m[Epoch 14] Training: accuracy=0.930671\u001b[0m\n",
      "\u001b[34m[Epoch 14] Validation: accuracy=0.930818\u001b[0m\n",
      "\u001b[34m[Epoch 15] Training: accuracy=0.937626\u001b[0m\n",
      "\u001b[34m[Epoch 15] Validation: accuracy=0.923630\u001b[0m\n",
      "\u001b[34m[Epoch 16] Training: accuracy=0.940767\u001b[0m\n",
      "\u001b[34m[Epoch 16] Validation: accuracy=0.930818\u001b[0m\n",
      "\u001b[34m[Epoch 17] Training: accuracy=0.941665\u001b[0m\n",
      "\u001b[34m[Epoch 17] Validation: accuracy=0.934412\u001b[0m\n",
      "\u001b[34m[Epoch 18] Training: accuracy=0.942114\u001b[0m\n",
      "\u001b[34m[Epoch 18] Validation: accuracy=0.930818\u001b[0m\n",
      "\u001b[34m[Epoch 19] Training: accuracy=0.944133\u001b[0m\n",
      "\u001b[34m[Epoch 19] Validation: accuracy=0.934412\u001b[0m\n",
      "\u001b[34m[Epoch 14] Training: accuracy=0.930671\u001b[0m\n",
      "\u001b[34m[Epoch 14] Validation: accuracy=0.930818\u001b[0m\n",
      "\u001b[34m[Epoch 15] Training: accuracy=0.937626\u001b[0m\n",
      "\u001b[34m[Epoch 15] Validation: accuracy=0.923630\u001b[0m\n",
      "\u001b[34m[Epoch 16] Training: accuracy=0.940767\u001b[0m\n",
      "\u001b[34m[Epoch 16] Validation: accuracy=0.930818\u001b[0m\n",
      "\u001b[34m[Epoch 17] Training: accuracy=0.941665\u001b[0m\n",
      "\u001b[34m[Epoch 17] Validation: accuracy=0.934412\u001b[0m\n",
      "\u001b[34m[Epoch 18] Training: accuracy=0.942114\u001b[0m\n",
      "\u001b[34m[Epoch 18] Validation: accuracy=0.930818\u001b[0m\n",
      "\u001b[34m[Epoch 19] Training: accuracy=0.944133\u001b[0m\n",
      "\u001b[34m[Epoch 19] Validation: accuracy=0.934412\u001b[0m\n",
      "\n",
      "2020-08-05 09:54:16 Uploading - Uploading generated training model\n",
      "2020-08-05 09:54:16 Completed - Training job completed\n",
      "\n",
      "2020-08-05 09:54:16 Uploading - Uploading generated training model\n",
      "2020-08-05 09:54:16 Completed - Training job completed\n",
      "Training seconds: 75\n",
      "Billable seconds: 75\n",
      "Training seconds: 75\n",
      "Billable seconds: 75\n"
     ]
    }
   ],
   "source": [
    "inputs = {'train': 's3://{0}/{1}/train/'.format(bucket_name, bucket_key_prefix),\n",
    " 'val': 's3://{0}/{1}/val/'.format(bucket_name, bucket_key_prefix)}\n",
    "\n",
    "m.fit(inputs)"
   ]
  },
  {
   "cell_type": "code",
   "execution_count": 8,
   "metadata": {},
   "outputs": [
    {
     "name": "stderr",
     "output_type": "stream",
     "text": [
      "Parameter image will be renamed to image_uri in SageMaker Python SDK v2.\n",
      "Parameter image will be renamed to image_uri in SageMaker Python SDK v2.\n",
      "'create_image_uri' will be deprecated in favor of 'ImageURIProvider' class in SageMaker Python SDK v2.\n",
      "'create_image_uri' will be deprecated in favor of 'ImageURIProvider' class in SageMaker Python SDK v2.\n"
     ]
    },
    {
     "name": "stdout",
     "output_type": "stream",
     "text": [
      "--------------------------!!"
     ]
    }
   ],
   "source": [
    "mxnet_pred = m.deploy(initial_instance_count=1,\n",
    "                      instance_type='ml.m5.large')"
   ]
  },
  {
   "cell_type": "code",
   "execution_count": 43,
   "metadata": {},
   "outputs": [
    {
     "name": "stdout",
     "output_type": "stream",
     "text": [
      "0           review2 great\n",
      "1       review2 very good\n",
      "2           review2 awful\n",
      "3           review3 great\n",
      "4             review3 bad\n",
      "              ...        \n",
      "1495      review1 awesome\n",
      "1496        review3 great\n",
      "1497        review8 awful\n",
      "1498        review9 awful\n",
      "1499                  NaN\n",
      "Name: review_concat, Length: 1500, dtype: object\n"
     ]
    }
   ],
   "source": [
    "import pandas as pd\n",
    "df = pd.read_json(r's3://jmijailovic-item-logs/reviewLogs/2020/06/10/11/jmijailovicLogsStream-1-2020-06-10-11-36-42-3691d933-23be-4814-8bcf-b50b926f3d22', lines=True)\n",
    "# print(df['review_text'])\n",
    "# print(df['review_title'])\n",
    "# print(df['review_stars'])\n",
    "# print(pd.concat([df['review_title'],df['review_text']]))\n",
    "df['review_concat'] = df['review_title']+' '+df['review_text']\n",
    "review_concat = str(df['review_concat'])\n",
    "print(review_concat)"
   ]
  },
  {
   "cell_type": "code",
   "execution_count": 10,
   "metadata": {},
   "outputs": [
    {
     "name": "stdout",
     "output_type": "stream",
     "text": [
      "{'predicted_probability': [[0.999864935874939]], 'predicted_label': [[1.0]]}\n"
     ]
    }
   ],
   "source": [
    "from sagemaker.mxnet.model import MXNetPredictor\n",
    "from utilities import one_hot_encode\n",
    "from utilities import vectorize_sequences\n",
    "\n",
    "# Uncomment the following line to connect to an existing endpoint.\n",
    "# mxnet_pred = MXNetPredictor('<endpoint_name>')\n",
    "\n",
    "test_messages = [\"FreeMsg: Txt: CALL to No: 86888 & claim your reward of 3 hours talk time to use from your phone now! ubscribe6GBP/ mnth inc 3hrs 16 stop?txtStop\"]\n",
    "one_hot_test_messages = one_hot_encode(test_messages, vocabulary_length)\n",
    "encoded_test_messages = vectorize_sequences(one_hot_test_messages, vocabulary_length)\n",
    "\n",
    "result = mxnet_pred.predict(encoded_test_messages)\n",
    "print(result)"
   ]
  },
  {
   "cell_type": "code",
   "execution_count": 44,
   "metadata": {},
   "outputs": [
    {
     "name": "stdout",
     "output_type": "stream",
     "text": [
      "{'predicted_label': [[0.0], [0.0], [0.0], [0.0], [0.0], [0.0], [0.0], [0.0], [0.0], [0.0], [0.0], [0.0], [0.0], [0.0], [0.0], [0.0], [0.0], [0.0], [0.0], [0.0], [0.0], [0.0], [0.0], [0.0], [0.0], [0.0], [0.0], [0.0], [0.0], [0.0], [0.0], [0.0], [0.0], [0.0], [0.0], [0.0], [0.0], [0.0], [0.0], [0.0], [0.0], [0.0], [0.0], [0.0], [0.0], [0.0], [0.0], [0.0], [0.0], [0.0], [0.0], [0.0], [0.0], [0.0], [0.0], [0.0], [0.0], [0.0], [0.0], [0.0], [0.0], [0.0], [0.0], [0.0], [0.0], [0.0], [0.0], [0.0], [0.0], [0.0], [0.0], [0.0], [0.0], [0.0], [0.0], [0.0], [0.0], [0.0], [0.0], [0.0], [0.0], [0.0], [0.0], [0.0], [0.0], [0.0], [0.0], [0.0], [0.0], [0.0], [0.0], [0.0], [0.0], [0.0], [0.0], [0.0], [0.0], [0.0], [0.0], [0.0], [0.0], [0.0], [0.0], [0.0], [0.0], [0.0], [0.0], [0.0], [0.0], [0.0], [0.0], [0.0], [0.0], [0.0], [0.0], [0.0], [0.0], [0.0], [0.0], [0.0], [0.0], [0.0], [0.0], [0.0], [0.0], [0.0], [0.0], [0.0], [0.0], [0.0], [0.0], [0.0], [0.0], [0.0], [0.0], [0.0], [0.0], [0.0], [0.0], [0.0], [0.0], [0.0], [0.0], [0.0], [0.0], [0.0], [0.0], [0.0], [0.0], [0.0], [0.0], [0.0], [0.0], [0.0], [0.0], [0.0], [0.0], [0.0], [0.0], [0.0], [0.0], [0.0], [0.0], [0.0], [0.0], [0.0], [0.0], [0.0], [0.0], [0.0], [0.0], [0.0], [0.0], [0.0], [0.0], [0.0], [0.0], [0.0], [0.0], [0.0], [0.0], [0.0], [0.0], [0.0], [0.0], [0.0], [0.0], [0.0], [0.0], [0.0], [0.0], [0.0], [0.0], [0.0], [0.0], [0.0], [0.0], [0.0], [0.0], [0.0], [0.0], [0.0], [0.0], [0.0], [0.0], [0.0], [0.0], [0.0], [0.0], [0.0], [0.0], [0.0], [0.0], [0.0], [0.0], [0.0], [0.0], [0.0], [0.0], [0.0], [0.0], [0.0], [0.0], [0.0], [0.0], [0.0], [0.0], [0.0], [0.0], [0.0], [0.0], [0.0], [0.0], [0.0], [0.0], [0.0], [0.0], [0.0], [0.0], [0.0], [0.0], [0.0], [0.0], [0.0], [0.0], [0.0], [0.0], [0.0], [0.0], [0.0], [0.0], [0.0], [0.0], [0.0], [0.0], [0.0], [0.0], [0.0], [0.0], [0.0], [0.0], [0.0], [0.0], [0.0], [0.0], [0.0], [0.0], [0.0], [0.0], [0.0], [0.0], [0.0], [0.0], [0.0], [0.0], [0.0], [0.0], [0.0], [0.0], [0.0], [0.0], [0.0], [0.0], [0.0], [0.0], [0.0], [0.0], [0.0], [0.0], [0.0], [0.0], [0.0], [0.0], [0.0], [0.0], [0.0], [0.0], [0.0], [0.0], [0.0], [0.0], [0.0], [0.0], [0.0], [0.0], [0.0], [0.0], [0.0], [0.0], [0.0], [0.0], [0.0], [0.0], [0.0], [0.0], [0.0], [0.0], [0.0], [0.0], [0.0], [0.0], [0.0], [0.0], [0.0], [0.0], [0.0], [0.0], [0.0], [0.0], [0.0], [0.0], [0.0], [0.0], [0.0]], 'predicted_probability': [[0.10447486490011215], [0.05427851900458336], [0.05427851900458336], [0.05427851900458336], [0.05427851900458336], [0.05427851900458336], [0.05427851900458336], [0.05427851900458336], [0.05427851900458336], [0.05427851900458336], [0.05427851900458336], [0.05427851900458336], [0.061094533652067184], [0.03210294246673584], [0.056676510721445084], [0.0368783213198185], [0.03210294246673584], [0.05523010343313217], [0.055171240121126175], [0.05427851900458336], [0.05911026895046234], [0.061094533652067184], [0.03210294246673584], [0.0812203586101532], [0.058193448930978775], [0.05427851900458336], [0.0450546070933342], [0.05427851900458336], [0.05427851900458336], [0.05427851900458336], [0.05427851900458336], [0.05427851900458336], [0.05427851900458336], [0.05427851900458336], [0.061094533652067184], [0.03210294246673584], [0.056676510721445084], [0.0368783213198185], [0.03210294246673584], [0.05523010343313217], [0.055171240121126175], [0.05427851900458336], [0.056676510721445084], [0.03210294246673584], [0.061094533652067184], [0.015122460201382637], [0.05427851900458336], [0.05911026895046234], [0.08451138436794281], [0.08451138436794281], [0.03633391857147217], [0.05427851900458336], [0.055171240121126175], [0.05427851900458336], [0.05427851900458336], [0.05427851900458336], [0.05427851900458336], [0.05427851900458336], [0.05427851900458336], [0.05427851900458336], [0.05427851900458336], [0.05427851900458336], [0.05427851900458336], [0.05427851900458336], [0.061094533652067184], [0.03210294246673584], [0.056676510721445084], [0.0368783213198185], [0.03210294246673584], [0.05523010343313217], [0.055171240121126175], [0.05427851900458336], [0.0812203586101532], [0.05523010343313217], [0.04520893469452858], [0.0792810246348381], [0.06919169425964355], [0.05427851900458336], [0.1549363136291504], [0.05427851900458336], [0.05427851900458336], [0.05427851900458336], [0.05427851900458336], [0.05427851900458336], [0.05427851900458336], [0.05427851900458336], [0.05427851900458336], [0.05427851900458336], [0.05427851900458336], [0.05427851900458336], [0.061094533652067184], [0.03210294246673584], [0.056676510721445084], [0.0368783213198185], [0.03210294246673584], [0.05523010343313217], [0.1549363136291504], [0.05427851900458336], [0.05911026895046234], [0.061094533652067184], [0.03210294246673584], [0.0812203586101532], [0.058193448930978775], [0.05427851900458336], [0.11051712930202484], [0.05427851900458336], [0.05427851900458336], [0.05427851900458336], [0.05427851900458336], [0.05427851900458336], [0.05427851900458336], [0.05427851900458336], [0.05427851900458336], [0.05427851900458336], [0.05427851900458336], [0.05427851900458336], [0.05427851900458336], [0.05427851900458336], [0.061094533652067184], [0.03210294246673584], [0.056676510721445084], [0.0368783213198185], [0.03210294246673584], [0.05523010343313217], [0.1549363136291504], [0.05427851900458336], [0.026841329410672188], [0.0812203586101532], [0.03633391857147217], [0.05427851900458336], [0.05427851900458336], [0.05427851900458336], [0.05427851900458336], [0.05427851900458336], [0.05427851900458336], [0.05427851900458336], [0.05427851900458336], [0.05427851900458336], [0.05427851900458336], [0.05427851900458336], [0.05427851900458336], [0.05427851900458336], [0.05427851900458336], [0.05427851900458336], [0.05427851900458336], [0.05427851900458336], [0.05427851900458336], [0.05427851900458336], [0.05427851900458336], [0.05427851900458336], [0.05427851900458336], [0.05427851900458336], [0.05427851900458336], [0.05427851900458336], [0.05427851900458336], [0.05427851900458336], [0.0450546070933342], [0.11051712930202484], [0.05192623287439346], [0.03208833932876587], [0.05427851900458336], [0.05427851900458336], [0.05427851900458336], [0.05427851900458336], [0.05427851900458336], [0.05427851900458336], [0.061094533652067184], [0.03210294246673584], [0.056676510721445084], [0.0368783213198185], [0.03210294246673584], [0.05523010343313217], [0.0450546070933342], [0.05427851900458336], [0.0812203586101532], [0.05523010343313217], [0.03210294246673584], [0.07817742973566055], [0.08451138436794281], [0.02604793757200241], [0.03210294246673584], [0.05427851900458336], [0.0450546070933342], [0.11051712930202484], [0.05192623287439346], [0.11673714220523834], [0.05427851900458336], [0.05427851900458336], [0.05427851900458336], [0.05427851900458336], [0.05427851900458336], [0.05427851900458336], [0.05427851900458336], [0.05427851900458336], [0.061094533652067184], [0.03210294246673584], [0.056676510721445084], [0.0368783213198185], [0.03210294246673584], [0.05523010343313217], [0.1549363136291504], [0.05427851900458336], [0.05911026895046234], [0.061094533652067184], [0.03210294246673584], [0.0812203586101532], [0.058193448930978775], [0.05427851900458336], [0.0450546070933342], [0.11051712930202484], [0.05192623287439346], [0.021068569272756577], [0.05427851900458336], [0.05427851900458336], [0.05427851900458336], [0.05427851900458336], [0.05427851900458336], [0.05427851900458336], [0.05427851900458336], [0.05427851900458336], [0.061094533652067184], [0.03210294246673584], [0.056676510721445084], [0.0368783213198185], [0.03210294246673584], [0.05523010343313217], [0.03445729240775108], [0.05427851900458336], [0.0812203586101532], [0.05523010343313217], [0.04520893469452858], [0.0792810246348381], [0.06919169425964355], [0.05427851900458336], [0.0450546070933342], [0.11051712930202484], [0.05192623287439346], [0.03445729240775108], [0.05427851900458336], [0.05427851900458336], [0.05427851900458336], [0.05427851900458336], [0.05427851900458336], [0.05427851900458336], [0.05427851900458336], [0.05427851900458336], [0.061094533652067184], [0.03210294246673584], [0.056676510721445084], [0.0368783213198185], [0.03210294246673584], [0.05523010343313217], [0.05192623287439346], [0.05427851900458336], [0.0812203586101532], [0.05523010343313217], [0.04520893469452858], [0.0792810246348381], [0.06919169425964355], [0.05427851900458336], [0.0450546070933342], [0.11051712930202484], [0.05192623287439346], [0.05192623287439346], [0.05427851900458336], [0.05427851900458336], [0.05427851900458336], [0.05427851900458336], [0.05427851900458336], [0.05427851900458336], [0.05427851900458336], [0.05427851900458336], [0.05427851900458336], [0.05427851900458336], [0.05427851900458336], [0.05427851900458336], [0.05427851900458336], [0.05427851900458336], [0.05427851900458336], [0.05427851900458336], [0.05427851900458336], [0.05427851900458336], [0.07237253338098526], [0.0812203586101532], [0.07237253338098526], [0.05427851900458336], [0.07237253338098526], [0.0812203586101532], [0.02604793757200241], [0.03210294246673584], [0.05427851900458336], [0.05427851900458336], [0.061094533652067184], [0.03210294246673584], [0.056676510721445084], [0.0368783213198185], [0.03210294246673584], [0.05523010343313217], [0.05427851900458336], [0.05066549777984619], [0.08451138436794281], [0.07237253338098526], [0.05066549777984619], [0.0812203586101532], [0.058193448930978775], [0.05427851900458336], [0.05427851900458336], [0.06919169425964355], [0.03210294246673584], [0.07237253338098526], [0.05911026895046234], [0.058193448930978775], [0.03428032994270325], [0.05427851900458336], [0.05427851900458336], [0.0450546070933342], [0.03208833932876587], [0.10447486490011215], [0.10447486490011215], [0.05427851900458336], [0.05427851900458336], [0.03633391857147217], [0.058193448930978775], [0.015122460201382637], [0.05330445244908333], [0.03210294246673584], [0.05427851900458336], [0.05427851900458336], [0.08451138436794281], [0.026841329410672188], [0.08203490823507309], [0.03210294246673584], [0.050665512681007385], [0.058193448930978775]]}\n"
     ]
    }
   ],
   "source": [
    "from sagemaker.mxnet.model import MXNetPredictor\n",
    "from utilities import one_hot_encode\n",
    "from utilities import vectorize_sequences\n",
    "\n",
    "# Uncomment the following line to connect to an existing endpoint.\n",
    "# mxnet_pred = MXNetPredictor('<endpoint_name>')\n",
    "\n",
    "# test_messages = [\"FreeMsg: Txt: CALL to No: 86888 & claim your reward of 3 hours talk time to use from your phone now! ubscribe6GBP/ mnth inc 3hrs 16 stop?txtStop\"]\n",
    "one_hot_test_messages = one_hot_encode(review_concat, vocabulary_length)\n",
    "encoded_test_messages = vectorize_sequences(one_hot_test_messages, vocabulary_length)\n",
    "\n",
    "result = mxnet_pred.predict(encoded_test_messages)\n",
    "print(result)"
   ]
  },
  {
   "cell_type": "code",
   "execution_count": 15,
   "metadata": {},
   "outputs": [
    {
     "name": "stdout",
     "output_type": "stream",
     "text": [
      "Deleting endpoint configuration with name: sms-spam-classifier-mxnet-2020-07-14-09-29-49-703\n",
      "Deleting endpoint with name: sms-spam-classifier-mxnet-2020-07-14-09-29-49-703\n"
     ]
    }
   ],
   "source": [
    "mxnet_pred.delete_endpoint()"
   ]
  },
  {
   "cell_type": "code",
   "execution_count": null,
   "metadata": {},
   "outputs": [],
   "source": []
  }
 ],
 "metadata": {
  "kernelspec": {
   "display_name": "conda_pytorch_p36",
   "language": "python",
   "name": "conda_pytorch_p36"
  },
  "language_info": {
   "codemirror_mode": {
    "name": "ipython",
    "version": 3
   },
   "file_extension": ".py",
   "mimetype": "text/x-python",
   "name": "python",
   "nbconvert_exporter": "python",
   "pygments_lexer": "ipython3",
   "version": "3.6.10"
  }
 },
 "nbformat": 4,
 "nbformat_minor": 4
}
